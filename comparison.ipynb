{
 "cells": [
  {
   "cell_type": "code",
   "execution_count": null,
   "metadata": {},
   "outputs": [
    {
     "name": "stdout",
     "output_type": "stream",
     "text": [
      "0    Retailer Hake Price Pilchards Price Sardines Price Tuna Price\n",
      "0  Pick'N’Pay     216.65           59.98         208.25     147.00\n",
      "1    Checkers     208.31           62.48         208.25     129.35\n"
     ]
    }
   ],
   "source": [
    "#import relevant libraries\n",
    "import pandas as pd\n",
    "import numpy as np\n",
    "import plotly.express as px\n",
    "import plotly.graph_objects as go\n",
    "import matplotlib.pyplot as plt\n",
    "\n",
    "#Alter filepath as necessary\n",
    "#path = #Set path as needed\n",
    "\n",
    "\n",
    "#Create temporary dataframe for csv to be loaded\n",
    "temp_df = pd.read_csv(path + 'fish_price_comparison_2025_03_01.csv', header=None)\n",
    "\n",
    "#Set the first row as the columns for the dataframe, then remove row from data and re-index\n",
    "temp_df.columns = temp_df.iloc[0]\n",
    "temp_df = temp_df[1:]\n",
    "temp_df.reset_index(drop=True, inplace=True)\n",
    "\n",
    "print(temp_df)"
   ]
  }
 ],
 "metadata": {
  "kernelspec": {
   "display_name": "base",
   "language": "python",
   "name": "python3"
  },
  "language_info": {
   "codemirror_mode": {
    "name": "ipython",
    "version": 3
   },
   "file_extension": ".py",
   "mimetype": "text/x-python",
   "name": "python",
   "nbconvert_exporter": "python",
   "pygments_lexer": "ipython3",
   "version": "3.12.7"
  }
 },
 "nbformat": 4,
 "nbformat_minor": 2
}
